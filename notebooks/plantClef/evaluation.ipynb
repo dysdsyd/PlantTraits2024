{
 "cells": [
  {
   "cell_type": "code",
   "execution_count": null,
   "metadata": {},
   "outputs": [],
   "source": [
    "%config Completer.use_jedi = False\n",
    "%load_ext autoreload\n",
    "%autoreload 2"
   ]
  },
  {
   "cell_type": "code",
   "execution_count": null,
   "metadata": {},
   "outputs": [],
   "source": [
    "import csv\n",
    "import pandas as pd\n",
    "import numpy as np\n",
    "from PIL import Image\n",
    "from sklearn.preprocessing import LabelEncoder, OneHotEncoder\n",
    "import pickle\n",
    "\n",
    "import torch\n",
    "import hydra\n",
    "import omegaconf\n",
    "import pyrootutils\n",
    "from tqdm import tqdm\n",
    "from glob import glob\n",
    "\n",
    "import matplotlib.pyplot as plt\n",
    "from fgvc.data.plant_clef_data import PlantCLEFDataset, PlantSPECIESDataset\n",
    "from torchmetrics.classification import MulticlassAccuracy, MulticlassPrecisionRecallCurve, MulticlassAveragePrecision\n",
    "from torchmetrics.functional.classification import *\n",
    "\n",
    "import matplotlib.pyplot as plt\n",
    "import seaborn as sns"
   ]
  },
  {
   "cell_type": "code",
   "execution_count": null,
   "metadata": {},
   "outputs": [],
   "source": [
    "df = pd.read_csv(\"/home/ubuntu/FGVC11/data/PlantClef/PlantCLEFTrainLQ.csv\",  delimiter=\";\", escapechar=\"/\")"
   ]
  },
  {
   "cell_type": "code",
   "execution_count": null,
   "metadata": {},
   "outputs": [],
   "source": [
    "# dataset class\n",
    "cfg = omegaconf.OmegaConf.load(\"/home/ubuntu/FGVC11/configs/data/plant_clef_data.yaml\")\n",
    "datamodule = hydra.utils.instantiate(cfg)\n",
    "datamodule.setup()"
   ]
  },
  {
   "cell_type": "code",
   "execution_count": null,
   "metadata": {},
   "outputs": [],
   "source": [
    "cfg = omegaconf.OmegaConf.load(\"/home/ubuntu/FGVC11/configs/model/plant_clef_model.yaml\")\n",
    "model = hydra.utils.instantiate(cfg)\n",
    "model.load_from_checkpoint(\"/home/ubuntu/FGVC11/logs/train/runs/test_edgenext_small_cross_entropy_specie_based_dataset_10/checkpoints/epoch_198.ckpt\");\n",
    "model.to(\"cuda\");\n",
    "model.eval();\n"
   ]
  },
  {
   "cell_type": "code",
   "execution_count": null,
   "metadata": {},
   "outputs": [],
   "source": [
    "cats = datamodule.le.categories_[0]\n",
    "test_targets = []\n",
    "target_specie = []\n",
    "test_preds = []\n",
    "for batch in tqdm(datamodule.train_dataloader()):\n",
    "    image = batch[\"image\"].to(\"cuda\")\n",
    "    test_targets.append(batch[\"encoded_label\"].cpu())\n",
    "    target_specie.append(batch[\"label\"].cpu())\n",
    "    with torch.no_grad():\n",
    "        output = torch.sigmoid(model(image))\n",
    "    test_preds.append(output.cpu())\n",
    "    # break\n",
    "test_preds = torch.cat(test_preds)\n",
    "test_targets = torch.cat(test_targets)\n",
    "target_specie = torch.cat(target_specie)"
   ]
  },
  {
   "cell_type": "code",
   "execution_count": null,
   "metadata": {},
   "outputs": [],
   "source": [
    "test_targets.shape, test_preds.shape, torch.argmax(test_targets, dim=1).shape"
   ]
  },
  {
   "cell_type": "code",
   "execution_count": null,
   "metadata": {},
   "outputs": [],
   "source": [
    "cats = torch.tensor(cats)"
   ]
  },
  {
   "cell_type": "code",
   "execution_count": null,
   "metadata": {},
   "outputs": [],
   "source": [
    "sum(cats[torch.argmax(test_targets, dim=1)] == target_specie)"
   ]
  },
  {
   "cell_type": "code",
   "execution_count": null,
   "metadata": {},
   "outputs": [],
   "source": [
    "# mc_pr = MulticlassPrecisionRecallCurve(num_classes=len(cats), average=\"macro\", thresholds=10)\n",
    "# precision, recall, thresholds = mc_pr(test_preds, torch.argmax(test_targets, dim=1))\n",
    "# # mc_pr.update(test_preds, torch.argmax(test_targets, dim=1))\n",
    "# # fig_, ax_ = mc_pr.plot(score=True)"
   ]
  },
  {
   "cell_type": "code",
   "execution_count": null,
   "metadata": {},
   "outputs": [],
   "source": [
    "# preds_single = []\n",
    "# for i in range(len(test_preds)):\n",
    "#     # keep the largest score and make zero for the rest of them\n",
    "#     pred = torch.zeros_like(test_preds[i])\n",
    "#     # assign the value\n",
    "#     pred[torch.argmax(test_preds[i])] = test_preds[i][torch.argmax(test_preds[i])] \n",
    "#     preds_single.append(pred)\n",
    "#     # break\n",
    "# preds_single = torch.stack(preds_single)"
   ]
  },
  {
   "cell_type": "code",
   "execution_count": null,
   "metadata": {},
   "outputs": [],
   "source": [
    "sum(torch.argmax(test_preds, dim=1) == torch.argmax(test_targets, dim=1))/len(test_targets)"
   ]
  },
  {
   "cell_type": "code",
   "execution_count": null,
   "metadata": {},
   "outputs": [],
   "source": [
    "len(test_targets)"
   ]
  },
  {
   "cell_type": "code",
   "execution_count": null,
   "metadata": {},
   "outputs": [],
   "source": [
    "10/78060"
   ]
  },
  {
   "cell_type": "code",
   "execution_count": null,
   "metadata": {},
   "outputs": [],
   "source": [
    "ac = MulticlassAccuracy(num_classes=len(cats), average=\"macro\")\n",
    "ac(test_preds, torch.argmax(test_targets, dim=1))"
   ]
  },
  {
   "cell_type": "code",
   "execution_count": null,
   "metadata": {},
   "outputs": [],
   "source": [
    "ap = MulticlassAveragePrecision(num_classes=len(cats), average=\"macro\", thresholds=10)\n",
    "ap(test_preds, torch.argmax(test_targets, dim=1))"
   ]
  },
  {
   "cell_type": "code",
   "execution_count": null,
   "metadata": {},
   "outputs": [],
   "source": [
    "import timm"
   ]
  },
  {
   "cell_type": "code",
   "execution_count": null,
   "metadata": {},
   "outputs": [],
   "source": [
    "model = timm.create_model(\"edgenext_base\", pretrained=True, num_classes=7806)"
   ]
  },
  {
   "cell_type": "code",
   "execution_count": null,
   "metadata": {},
   "outputs": [],
   "source": [
    "model"
   ]
  },
  {
   "cell_type": "code",
   "execution_count": null,
   "metadata": {},
   "outputs": [],
   "source": []
  },
  {
   "cell_type": "code",
   "execution_count": null,
   "metadata": {},
   "outputs": [],
   "source": []
  },
  {
   "cell_type": "code",
   "execution_count": null,
   "metadata": {},
   "outputs": [],
   "source": []
  }
 ],
 "metadata": {
  "kernelspec": {
   "display_name": "transformers",
   "language": "python",
   "name": "python3"
  },
  "language_info": {
   "codemirror_mode": {
    "name": "ipython",
    "version": 3
   },
   "file_extension": ".py",
   "mimetype": "text/x-python",
   "name": "python",
   "nbconvert_exporter": "python",
   "pygments_lexer": "ipython3",
   "version": "3.10.12"
  }
 },
 "nbformat": 4,
 "nbformat_minor": 2
}
