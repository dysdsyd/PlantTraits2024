{
 "cells": [
  {
   "cell_type": "code",
   "execution_count": 1,
   "metadata": {},
   "outputs": [],
   "source": [
    "%config Completer.use_jedi = False\n",
    "%load_ext autoreload\n",
    "%autoreload 2"
   ]
  },
  {
   "cell_type": "code",
   "execution_count": 2,
   "metadata": {},
   "outputs": [],
   "source": [
    "import csv\n",
    "import pandas as pd\n",
    "import numpy as np\n",
    "from PIL import Image\n",
    "from sklearn.preprocessing import LabelEncoder, OneHotEncoder\n",
    "import pickle\n",
    "\n",
    "import torch\n",
    "import hydra\n",
    "import omegaconf\n",
    "import pyrootutils\n",
    "from tqdm import tqdm\n",
    "from glob import glob\n",
    "\n",
    "import matplotlib.pyplot as plt\n",
    "from fgvc.data.plant_clef_data import PlantCLEFDataset, PlantSPECIESDataset"
   ]
  },
  {
   "cell_type": "code",
   "execution_count": 10,
   "metadata": {},
   "outputs": [
    {
     "name": "stderr",
     "output_type": "stream",
     "text": [
      "/tmp/ipykernel_69598/583444022.py:1: DtypeWarning: Columns (5) have mixed types. Specify dtype option on import or set low_memory=False.\n",
      "  df = pd.read_csv(\"/home/ubuntu/FGVC11/data/PlantClef/PlantCLEFTrainLQ.csv\",  delimiter=\";\", escapechar=\"/\")\n"
     ]
    }
   ],
   "source": [
    "df = pd.read_csv(\"/home/ubuntu/FGVC11/data/PlantClef/PlantCLEFTrainLQ.csv\",  delimiter=\";\", escapechar=\"/\")\n",
    "df[\"vector_path\"] = \"/home/ubuntu/FGVC11/data/PlantClef/lq_feats/\" + df[\"image_name\"].apply(lambda x: x.replace(\".jpg\", \".pt\"))\n",
    "df.to_csv(\"/home/ubuntu/FGVC11/data/PlantClef/PlantCLEFTrainLQ.csv\", sep=';', index=False, quoting=csv.QUOTE_NONE, escapechar='/')"
   ]
  },
  {
   "cell_type": "code",
   "execution_count": 6,
   "metadata": {},
   "outputs": [
    {
     "data": {
      "text/html": [
       "<div>\n",
       "<style scoped>\n",
       "    .dataframe tbody tr th:only-of-type {\n",
       "        vertical-align: middle;\n",
       "    }\n",
       "\n",
       "    .dataframe tbody tr th {\n",
       "        vertical-align: top;\n",
       "    }\n",
       "\n",
       "    .dataframe thead th {\n",
       "        text-align: right;\n",
       "    }\n",
       "</style>\n",
       "<table border=\"1\" class=\"dataframe\">\n",
       "  <thead>\n",
       "    <tr style=\"text-align: right;\">\n",
       "      <th></th>\n",
       "      <th>image_name</th>\n",
       "      <th>organ</th>\n",
       "      <th>species_id</th>\n",
       "      <th>obs_id</th>\n",
       "      <th>license</th>\n",
       "      <th>partner</th>\n",
       "      <th>author</th>\n",
       "      <th>altitude</th>\n",
       "      <th>latitude</th>\n",
       "      <th>longitude</th>\n",
       "      <th>...</th>\n",
       "      <th>genus</th>\n",
       "      <th>family</th>\n",
       "      <th>dataset</th>\n",
       "      <th>publisher</th>\n",
       "      <th>references</th>\n",
       "      <th>url</th>\n",
       "      <th>learn_tag</th>\n",
       "      <th>image_backup_url</th>\n",
       "      <th>path</th>\n",
       "      <th>vector_path</th>\n",
       "    </tr>\n",
       "  </thead>\n",
       "  <tbody>\n",
       "    <tr>\n",
       "      <th>0</th>\n",
       "      <td>59feabe1c98f06e7f819f73c8246bd8f1a89556b.jpg</td>\n",
       "      <td>leaf</td>\n",
       "      <td>1396710</td>\n",
       "      <td>1008726402</td>\n",
       "      <td>cc-by-sa</td>\n",
       "      <td>NaN</td>\n",
       "      <td>Gulyás Bálint</td>\n",
       "      <td>205.9261</td>\n",
       "      <td>47.592160</td>\n",
       "      <td>19.362895</td>\n",
       "      <td>...</td>\n",
       "      <td>Taxus</td>\n",
       "      <td>Taxaceae</td>\n",
       "      <td>plantnet</td>\n",
       "      <td>plantnet</td>\n",
       "      <td>https://identify.plantnet.org/fr/k-southwester...</td>\n",
       "      <td>https://bs.plantnet.org/image/o/59feabe1c98f06...</td>\n",
       "      <td>train</td>\n",
       "      <td>https://lab.plantnet.org/LifeCLEF/PlantCLEF202...</td>\n",
       "      <td>/home/ubuntu/FGVC11/data/PlantClef/images_trai...</td>\n",
       "      <td>/home/ubuntu/FGVC11/data/PlantClef/lq_feats/59...</td>\n",
       "    </tr>\n",
       "    <tr>\n",
       "      <th>1</th>\n",
       "      <td>dc273995a89827437d447f29a52ccac86f65476e.jpg</td>\n",
       "      <td>leaf</td>\n",
       "      <td>1396710</td>\n",
       "      <td>1008724195</td>\n",
       "      <td>cc-by-sa</td>\n",
       "      <td>NaN</td>\n",
       "      <td>vadim sigaud</td>\n",
       "      <td>323.7520</td>\n",
       "      <td>47.906703</td>\n",
       "      <td>7.201746</td>\n",
       "      <td>...</td>\n",
       "      <td>Taxus</td>\n",
       "      <td>Taxaceae</td>\n",
       "      <td>plantnet</td>\n",
       "      <td>plantnet</td>\n",
       "      <td>https://identify.plantnet.org/fr/k-southwester...</td>\n",
       "      <td>https://bs.plantnet.org/image/o/dc273995a89827...</td>\n",
       "      <td>train</td>\n",
       "      <td>https://lab.plantnet.org/LifeCLEF/PlantCLEF202...</td>\n",
       "      <td>/home/ubuntu/FGVC11/data/PlantClef/images_trai...</td>\n",
       "      <td>/home/ubuntu/FGVC11/data/PlantClef/lq_feats/dc...</td>\n",
       "    </tr>\n",
       "    <tr>\n",
       "      <th>2</th>\n",
       "      <td>416235e7023a4bd1513edf036b6097efc693a304.jpg</td>\n",
       "      <td>leaf</td>\n",
       "      <td>1396710</td>\n",
       "      <td>1008721908</td>\n",
       "      <td>cc-by-sa</td>\n",
       "      <td>NaN</td>\n",
       "      <td>fil escande</td>\n",
       "      <td>101.3160</td>\n",
       "      <td>48.826774</td>\n",
       "      <td>2.352774</td>\n",
       "      <td>...</td>\n",
       "      <td>Taxus</td>\n",
       "      <td>Taxaceae</td>\n",
       "      <td>plantnet</td>\n",
       "      <td>plantnet</td>\n",
       "      <td>https://identify.plantnet.org/fr/k-southwester...</td>\n",
       "      <td>https://bs.plantnet.org/image/o/416235e7023a4b...</td>\n",
       "      <td>train</td>\n",
       "      <td>https://lab.plantnet.org/LifeCLEF/PlantCLEF202...</td>\n",
       "      <td>/home/ubuntu/FGVC11/data/PlantClef/images_trai...</td>\n",
       "      <td>/home/ubuntu/FGVC11/data/PlantClef/lq_feats/41...</td>\n",
       "    </tr>\n",
       "    <tr>\n",
       "      <th>3</th>\n",
       "      <td>cbd18fade82c46a5c725f1f3d982174895158afc.jpg</td>\n",
       "      <td>leaf</td>\n",
       "      <td>1396710</td>\n",
       "      <td>1008699177</td>\n",
       "      <td>cc-by-sa</td>\n",
       "      <td>NaN</td>\n",
       "      <td>Desiree Verver</td>\n",
       "      <td>5.1070</td>\n",
       "      <td>52.190427</td>\n",
       "      <td>6.009677</td>\n",
       "      <td>...</td>\n",
       "      <td>Taxus</td>\n",
       "      <td>Taxaceae</td>\n",
       "      <td>plantnet</td>\n",
       "      <td>plantnet</td>\n",
       "      <td>https://identify.plantnet.org/fr/k-southwester...</td>\n",
       "      <td>https://bs.plantnet.org/image/o/cbd18fade82c46...</td>\n",
       "      <td>train</td>\n",
       "      <td>https://lab.plantnet.org/LifeCLEF/PlantCLEF202...</td>\n",
       "      <td>/home/ubuntu/FGVC11/data/PlantClef/images_trai...</td>\n",
       "      <td>/home/ubuntu/FGVC11/data/PlantClef/lq_feats/cb...</td>\n",
       "    </tr>\n",
       "    <tr>\n",
       "      <th>4</th>\n",
       "      <td>f82c8c6d570287ebed8407cefcfcb2a51eaaf56e.jpg</td>\n",
       "      <td>leaf</td>\n",
       "      <td>1396710</td>\n",
       "      <td>1008683100</td>\n",
       "      <td>cc-by-sa</td>\n",
       "      <td>NaN</td>\n",
       "      <td>branebrane</td>\n",
       "      <td>165.3390</td>\n",
       "      <td>45.794739</td>\n",
       "      <td>15.965862</td>\n",
       "      <td>...</td>\n",
       "      <td>Taxus</td>\n",
       "      <td>Taxaceae</td>\n",
       "      <td>plantnet</td>\n",
       "      <td>plantnet</td>\n",
       "      <td>https://identify.plantnet.org/fr/k-southwester...</td>\n",
       "      <td>https://bs.plantnet.org/image/o/f82c8c6d570287...</td>\n",
       "      <td>train</td>\n",
       "      <td>https://lab.plantnet.org/LifeCLEF/PlantCLEF202...</td>\n",
       "      <td>/home/ubuntu/FGVC11/data/PlantClef/images_trai...</td>\n",
       "      <td>/home/ubuntu/FGVC11/data/PlantClef/lq_feats/f8...</td>\n",
       "    </tr>\n",
       "  </tbody>\n",
       "</table>\n",
       "<p>5 rows × 22 columns</p>\n",
       "</div>"
      ],
      "text/plain": [
       "                                     image_name organ  species_id      obs_id  \\\n",
       "0  59feabe1c98f06e7f819f73c8246bd8f1a89556b.jpg  leaf     1396710  1008726402   \n",
       "1  dc273995a89827437d447f29a52ccac86f65476e.jpg  leaf     1396710  1008724195   \n",
       "2  416235e7023a4bd1513edf036b6097efc693a304.jpg  leaf     1396710  1008721908   \n",
       "3  cbd18fade82c46a5c725f1f3d982174895158afc.jpg  leaf     1396710  1008699177   \n",
       "4  f82c8c6d570287ebed8407cefcfcb2a51eaaf56e.jpg  leaf     1396710  1008683100   \n",
       "\n",
       "    license partner          author  altitude   latitude  longitude  ...  \\\n",
       "0  cc-by-sa     NaN   Gulyás Bálint  205.9261  47.592160  19.362895  ...   \n",
       "1  cc-by-sa     NaN    vadim sigaud  323.7520  47.906703   7.201746  ...   \n",
       "2  cc-by-sa     NaN     fil escande  101.3160  48.826774   2.352774  ...   \n",
       "3  cc-by-sa     NaN  Desiree Verver    5.1070  52.190427   6.009677  ...   \n",
       "4  cc-by-sa     NaN      branebrane  165.3390  45.794739  15.965862  ...   \n",
       "\n",
       "   genus    family   dataset publisher  \\\n",
       "0  Taxus  Taxaceae  plantnet  plantnet   \n",
       "1  Taxus  Taxaceae  plantnet  plantnet   \n",
       "2  Taxus  Taxaceae  plantnet  plantnet   \n",
       "3  Taxus  Taxaceae  plantnet  plantnet   \n",
       "4  Taxus  Taxaceae  plantnet  plantnet   \n",
       "\n",
       "                                          references  \\\n",
       "0  https://identify.plantnet.org/fr/k-southwester...   \n",
       "1  https://identify.plantnet.org/fr/k-southwester...   \n",
       "2  https://identify.plantnet.org/fr/k-southwester...   \n",
       "3  https://identify.plantnet.org/fr/k-southwester...   \n",
       "4  https://identify.plantnet.org/fr/k-southwester...   \n",
       "\n",
       "                                                 url learn_tag  \\\n",
       "0  https://bs.plantnet.org/image/o/59feabe1c98f06...     train   \n",
       "1  https://bs.plantnet.org/image/o/dc273995a89827...     train   \n",
       "2  https://bs.plantnet.org/image/o/416235e7023a4b...     train   \n",
       "3  https://bs.plantnet.org/image/o/cbd18fade82c46...     train   \n",
       "4  https://bs.plantnet.org/image/o/f82c8c6d570287...     train   \n",
       "\n",
       "                                    image_backup_url  \\\n",
       "0  https://lab.plantnet.org/LifeCLEF/PlantCLEF202...   \n",
       "1  https://lab.plantnet.org/LifeCLEF/PlantCLEF202...   \n",
       "2  https://lab.plantnet.org/LifeCLEF/PlantCLEF202...   \n",
       "3  https://lab.plantnet.org/LifeCLEF/PlantCLEF202...   \n",
       "4  https://lab.plantnet.org/LifeCLEF/PlantCLEF202...   \n",
       "\n",
       "                                                path  \\\n",
       "0  /home/ubuntu/FGVC11/data/PlantClef/images_trai...   \n",
       "1  /home/ubuntu/FGVC11/data/PlantClef/images_trai...   \n",
       "2  /home/ubuntu/FGVC11/data/PlantClef/images_trai...   \n",
       "3  /home/ubuntu/FGVC11/data/PlantClef/images_trai...   \n",
       "4  /home/ubuntu/FGVC11/data/PlantClef/images_trai...   \n",
       "\n",
       "                                         vector_path  \n",
       "0  /home/ubuntu/FGVC11/data/PlantClef/lq_feats/59...  \n",
       "1  /home/ubuntu/FGVC11/data/PlantClef/lq_feats/dc...  \n",
       "2  /home/ubuntu/FGVC11/data/PlantClef/lq_feats/41...  \n",
       "3  /home/ubuntu/FGVC11/data/PlantClef/lq_feats/cb...  \n",
       "4  /home/ubuntu/FGVC11/data/PlantClef/lq_feats/f8...  \n",
       "\n",
       "[5 rows x 22 columns]"
      ]
     },
     "execution_count": 6,
     "metadata": {},
     "output_type": "execute_result"
    }
   ],
   "source": [
    "df.head()"
   ]
  },
  {
   "cell_type": "code",
   "execution_count": 11,
   "metadata": {},
   "outputs": [
    {
     "name": "stderr",
     "output_type": "stream",
     "text": [
      "/home/ubuntu/FGVC11/src/fgvc/data/plant_clef_data.py:387: DtypeWarning: Columns (5) have mixed types. Specify dtype option on import or set low_memory=False.\n",
      "  self.df = pd.read_csv(self.df_path, delimiter=\";\", escapechar=\"/\")\n"
     ]
    }
   ],
   "source": [
    "cfg = omegaconf.OmegaConf.load(\"/home/ubuntu/FGVC11/configs/data/vector_plant_clef_data.yaml\")\n",
    "datamodule = hydra.utils.instantiate(cfg)\n",
    "datamodule.setup()"
   ]
  },
  {
   "cell_type": "code",
   "execution_count": 18,
   "metadata": {},
   "outputs": [],
   "source": [
    "for batch in datamodule.train_dataloader():\n",
    "    break"
   ]
  },
  {
   "cell_type": "code",
   "execution_count": 21,
   "metadata": {},
   "outputs": [],
   "source": [
    "feats, labels = batch[\"vector\"].unsqueeze(1), batch[\"encoded_label\"]"
   ]
  },
  {
   "cell_type": "code",
   "execution_count": 22,
   "metadata": {},
   "outputs": [
    {
     "data": {
      "text/plain": [
       "torch.Size([16, 1, 768])"
      ]
     },
     "execution_count": 22,
     "metadata": {},
     "output_type": "execute_result"
    }
   ],
   "source": [
    "feats.shape"
   ]
  },
  {
   "cell_type": "code",
   "execution_count": 25,
   "metadata": {},
   "outputs": [],
   "source": [
    "def reshape_tensor_labels(tensor, labels, N):\n",
    "    # Original dimensions\n",
    "    seq_len, feature_dim = tensor.size(1), tensor.size(2)\n",
    "    _, num_classes = labels.size()\n",
    "\n",
    "    # Reshape the tensor and labels\n",
    "    reshaped_tensor = tensor.view(-1, N * seq_len, feature_dim)\n",
    "    reshaped_labels = labels.view(-1, N, num_classes).sum(dim=1)\n",
    "    reshaped_labels = (reshaped_labels > 0).float()\n",
    "    # Convert to binary classification target\n",
    "\n",
    "    return reshaped_tensor, reshaped_labels\n"
   ]
  },
  {
   "cell_type": "code",
   "execution_count": 26,
   "metadata": {},
   "outputs": [],
   "source": [
    "feats, labels = reshape_tensor_labels(feats, labels, 4)"
   ]
  },
  {
   "cell_type": "code",
   "execution_count": 27,
   "metadata": {},
   "outputs": [
    {
     "data": {
      "text/plain": [
       "(torch.Size([4, 4, 768]), torch.Size([4, 7806]))"
      ]
     },
     "execution_count": 27,
     "metadata": {},
     "output_type": "execute_result"
    }
   ],
   "source": [
    "feats.shape, labels.shape"
   ]
  },
  {
   "cell_type": "code",
   "execution_count": 34,
   "metadata": {},
   "outputs": [
    {
     "data": {
      "text/plain": [
       "[1, 2, 3, 4, 5, 6, 8, 10, 12, 15, 20, 24]"
      ]
     },
     "execution_count": 34,
     "metadata": {},
     "output_type": "execute_result"
    }
   ],
   "source": [
    "def find_divisors(N):\n",
    "    \"\"\"\n",
    "    This function returns a list of numbers less than 20 that divide N without a remainder.\n",
    "\n",
    "    :param N: The number for which to find divisors.\n",
    "    :return: A list of divisors of N that are less than 20.\n",
    "    \"\"\"\n",
    "    divisors = []\n",
    "    for i in range(1, 25):  # Loop from 1 to 19\n",
    "        if N % i == 0:\n",
    "            divisors.append(i)\n",
    "    return divisors\n",
    "\n",
    "# Example usage\n",
    "N = 600\n",
    "find_divisors(N)"
   ]
  },
  {
   "cell_type": "code",
   "execution_count": null,
   "metadata": {},
   "outputs": [],
   "source": []
  }
 ],
 "metadata": {
  "kernelspec": {
   "display_name": "transformers",
   "language": "python",
   "name": "python3"
  },
  "language_info": {
   "codemirror_mode": {
    "name": "ipython",
    "version": 3
   },
   "file_extension": ".py",
   "mimetype": "text/x-python",
   "name": "python",
   "nbconvert_exporter": "python",
   "pygments_lexer": "ipython3",
   "version": "3.10.12"
  }
 },
 "nbformat": 4,
 "nbformat_minor": 2
}
