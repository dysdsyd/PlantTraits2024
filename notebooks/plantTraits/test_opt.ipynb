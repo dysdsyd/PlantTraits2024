{
 "cells": [
  {
   "cell_type": "markdown",
   "metadata": {},
   "source": [
    "### Test the optimizer and scheduler setup"
   ]
  },
  {
   "cell_type": "code",
   "execution_count": null,
   "metadata": {},
   "outputs": [],
   "source": [
    "%config Completer.use_jedi = False\n",
    "%load_ext autoreload\n",
    "%autoreload 2"
   ]
  },
  {
   "cell_type": "code",
   "execution_count": null,
   "metadata": {},
   "outputs": [],
   "source": [
    "import hydra\n",
    "import lightning as pl\n",
    "from omegaconf import DictConfig\n",
    "from lightning import Callback, LightningDataModule, LightningModule, Trainer\n",
    "import torch\n",
    "import hydra\n",
    "import omegaconf\n",
    "import pyrootutils\n",
    "import matplotlib.pyplot as plt"
   ]
  },
  {
   "cell_type": "code",
   "execution_count": null,
   "metadata": {},
   "outputs": [],
   "source": [
    "cfg = omegaconf.OmegaConf.load(\n",
    "    \"/home/ubuntu/FGVC11/configs/model/plant_traits_model.yaml\"\n",
    ")\n",
    "model = hydra.utils.instantiate(cfg)\n",
    "d = model.configure_optimizers()\n",
    "total_params = sum(p.numel() for p in model.parameters() if p.requires_grad)\n",
    "for name, param in model.named_parameters():\n",
    "    if param.requires_grad:\n",
    "        print(name)\n",
    "print(total_params)"
   ]
  },
  {
   "cell_type": "code",
   "execution_count": null,
   "metadata": {},
   "outputs": [],
   "source": [
    "schd_names = [\"head\", \"blend weights\", \"block7\", \"block8\", \"block9\", \"block10\", \"block11\", \"block12\", \"tokens\"]\n",
    "assert len(d) == len(schd_names)"
   ]
  },
  {
   "cell_type": "code",
   "execution_count": null,
   "metadata": {},
   "outputs": [],
   "source": [
    "import matplotlib.pyplot as plt\n",
    "\n",
    "def plot_learning_rates_for_all(schedulers, total_epochs):\n",
    "    # Setup the plot\n",
    "    plt.figure(figsize=(12, 7))\n",
    "    \n",
    "    # Iterate over each scheduler in the dictionary\n",
    "    for idx, sched_dict in enumerate(schedulers):\n",
    "        # Extract the scheduler\n",
    "        scheduler = sched_dict['lr_scheduler']\n",
    "        learning_rates = []\n",
    "        \n",
    "        # Reset the scheduler to its initial state if necessary\n",
    "        # This might require reinitializing or resetting parameters if your schedulers retain state across runs\n",
    "        # (Comment out the next line if your scheduler does not support or require reinitialization)\n",
    "        # scheduler.reset()  # This assumes you have a reset method to put it back to its initial state\n",
    "        \n",
    "        # Simulate the scheduler stepping through each epoch\n",
    "        for epoch in range(total_epochs):\n",
    "            scheduler.step()\n",
    "            current_lr = scheduler.get_last_lr()\n",
    "            learning_rates.append(current_lr[0])\n",
    "\n",
    "        # Plot the learning rates for this scheduler\n",
    "        plt.plot(learning_rates, label=f'Scheduler {schd_names[idx]}')\n",
    "\n",
    "    # Add plot details\n",
    "    plt.title('Learning Rate Schedules for Multiple Schedulers Over Epochs')\n",
    "    plt.xlabel('Epoch')\n",
    "    plt.ylabel('Learning Rate')\n",
    "    plt.legend()\n",
    "    plt.grid(True)\n",
    "    plt.show()\n",
    "\n",
    "# Example usage assuming 'd' is a list of dictionaries containing schedulers\n",
    "plot_learning_rates_for_all(d, 120)\n"
   ]
  },
  {
   "cell_type": "code",
   "execution_count": null,
   "metadata": {},
   "outputs": [],
   "source": []
  }
 ],
 "metadata": {
  "kernelspec": {
   "display_name": "transformers",
   "language": "python",
   "name": "python3"
  },
  "language_info": {
   "codemirror_mode": {
    "name": "ipython",
    "version": 3
   },
   "file_extension": ".py",
   "mimetype": "text/x-python",
   "name": "python",
   "nbconvert_exporter": "python",
   "pygments_lexer": "ipython3",
   "version": "3.10.12"
  }
 },
 "nbformat": 4,
 "nbformat_minor": 2
}
