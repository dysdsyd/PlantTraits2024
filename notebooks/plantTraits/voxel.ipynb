{
 "cells": [
  {
   "cell_type": "code",
   "execution_count": null,
   "metadata": {},
   "outputs": [],
   "source": [
    "%config Completer.use_jedi = False\n",
    "%load_ext autoreload\n",
    "%autoreload 2"
   ]
  },
  {
   "cell_type": "markdown",
   "metadata": {},
   "source": [
    "## Steps\n",
    "1. Join the kaggle contest - https://www.kaggle.com/competitions/planttraits2024\n",
    "2. Install kaggle cli - https://github.com/Kaggle/kaggle-api/blob/main/docs/README.md\n",
    "3. Download the data - `kaggle competitions download -c planttraits2024`\n",
    "4. Unzip the data\n",
    "5. Install FGVC repo - `pip install -e .` and `pip install -r requirement.txt` in the desired env\n",
    "5. Train the model"
   ]
  },
  {
   "cell_type": "markdown",
   "metadata": {},
   "source": [
    "## Setup"
   ]
  },
  {
   "cell_type": "code",
   "execution_count": null,
   "metadata": {},
   "outputs": [],
   "source": [
    "import numpy as np\n",
    "import pandas as pd\n",
    "from tqdm import tqdm\n",
    "import matplotlib.pyplot as plt\n",
    "import seaborn as sns\n",
    "sns.set_style(\"darkgrid\")\n",
    "from typing import List, Union, Callable\n",
    "\n",
    "import fiftyone as fo\n",
    "import fiftyone.core.fields as fof\n",
    "import fiftyone.brain as fob\n",
    "import fiftyone.zoo as foz\n",
    "from fiftyone import ViewField as F\n",
    "from fiftyone.core.labels import Attribute\n"
   ]
  },
  {
   "cell_type": "code",
   "execution_count": null,
   "metadata": {},
   "outputs": [],
   "source": [
    "label_col = ['X4_mean', 'X11_mean', 'X18_mean', 'X26_mean', 'X50_mean', 'X3112_mean']"
   ]
  },
  {
   "cell_type": "code",
   "execution_count": null,
   "metadata": {},
   "outputs": [],
   "source": [
    "df_train = pd.read_csv('/home/ubuntu/FGVC11/data/PlantTrait/train.csv')\n",
    "df_train['path'] = '/home/ubuntu/FGVC11/data/PlantTrait/train_images/' + df_train['id'].astype(str) + '.jpeg'\n",
    "df_train.to_csv('/home/ubuntu/FGVC11/data/PlantTrait/df_train.csv', index=False)\n",
    "\n",
    "df_test = pd.read_csv('/home/ubuntu/FGVC11/data/PlantTrait/test.csv')\n",
    "df_test['path'] = '/home/ubuntu/FGVC11/data/PlantTrait/test_images/' + df_test['id'].astype(str) + '.jpeg'\n",
    "df_test.to_csv('/home/ubuntu/FGVC11/data/PlantTrait/df_test.csv', index=False)"
   ]
  },
  {
   "cell_type": "code",
   "execution_count": null,
   "metadata": {},
   "outputs": [],
   "source": [
    "for column in label_col:\n",
    "    upper_quantile = df_train[column].quantile(0.98)  \n",
    "    df_train = df_train[(df_train[column] < upper_quantile)]\n",
    "    # df_train = df_train[(df_train[column] > 0)]   \n",
    "    # df_train[column] = np.log(df_train[column]) "
   ]
  },
  {
   "cell_type": "code",
   "execution_count": null,
   "metadata": {},
   "outputs": [],
   "source": [
    "if \"plant_trait\" in fo.list_datasets():\n",
    "    dataset = fo.load_dataset(\"plant_trait\")\n",
    "    dataset.delete()\n",
    "    \n",
    "samples = []\n",
    "# go through all the tiles\n",
    "for _, row in tqdm(df_train.iterrows(), total=len(df_train)):\n",
    "    \n",
    "    # add images\n",
    "    sample = fo.Sample(filepath=row['path'])\n",
    "    for col in label_col:\n",
    "        sample[col] = row[col]\n",
    "    samples.append(sample)\n",
    "\n",
    "# initialize the dataset (restart the notebook if you face and error) \n",
    "dataset = fo.Dataset(\"plant_trait\")\n",
    "dataset.add_samples(samples)"
   ]
  },
  {
   "cell_type": "code",
   "execution_count": null,
   "metadata": {},
   "outputs": [],
   "source": [
    "# launch voxel51 on the desired port\n",
    "session = fo.launch_app(dataset, port=5151)"
   ]
  },
  {
   "cell_type": "code",
   "execution_count": null,
   "metadata": {},
   "outputs": [],
   "source": [
    "# choose the model for generating the embeddings\n",
    "model = foz.load_zoo_model(\"clip-vit-base32-torch\")\n",
    "\n",
    "emb = fob.compute_visualization(\n",
    "    model=model,\n",
    "    samples=dataset,\n",
    "    num_dims=2,\n",
    "    brain_key=f\"emb\",\n",
    "    verbose=True,\n",
    "    seed=51,\n",
    ")"
   ]
  },
  {
   "cell_type": "code",
   "execution_count": null,
   "metadata": {},
   "outputs": [],
   "source": [
    "# bin df_train[\"X4_mean\"] into 10 bins while keeping the distribution same in each\n",
    "for col in label_col:\n",
    "    bin_column_name = f\"{col}_bin\"\n",
    "    df_train[bin_column_name] = \"unknown\"\n",
    "    df_train[bin_column_name][df_train[col]>=0], cats = pd.qcut(\n",
    "        df_train[col][df_train[col]>=0], q=5, labels=False, precision=3, retbins=True)\n",
    "    # use cats to change the values of bin column with range\n",
    "    cats = np.round(cats, 2)\n",
    "    cats = [f\"({cats[i]}, {cats[i+1]})\" for i in range(len(cats)-1)]\n",
    "    df_train[bin_column_name] = df_train[bin_column_name].map({i: cats[i] for i in range(len(cats))}) \n",
    "    df_train[bin_column_name][df_train[col]<0] = \"negative\""
   ]
  },
  {
   "cell_type": "code",
   "execution_count": null,
   "metadata": {},
   "outputs": [],
   "source": [
    "for sample in tqdm(dataset):\n",
    "    df_slice = df_train.loc[df_train['path'] == sample.filepath]\n",
    "    for col in label_col:\n",
    "        bin_column_name = f\"{col}_bin\"\n",
    "        sample[bin_column_name] = df_slice[bin_column_name].values[0]\n",
    "    sample.save()    "
   ]
  },
  {
   "cell_type": "code",
   "execution_count": null,
   "metadata": {},
   "outputs": [],
   "source": [
    "bin_columns = [f\"{col}_bin\" for col in label_col]"
   ]
  },
  {
   "cell_type": "code",
   "execution_count": null,
   "metadata": {},
   "outputs": [],
   "source": [
    "df_train['species'] = df_train[bin_columns].apply(lambda x: '_'.join(x.astype(str)), axis=1)\n"
   ]
  },
  {
   "cell_type": "code",
   "execution_count": null,
   "metadata": {},
   "outputs": [],
   "source": [
    "df_train.species.value_counts()"
   ]
  },
  {
   "cell_type": "code",
   "execution_count": null,
   "metadata": {},
   "outputs": [],
   "source": [
    "for sample in tqdm(dataset):\n",
    "    df_slice = df_train.loc[df_train['path'] == sample.filepath]\n",
    "    sample[\"species\"] = df_slice[\"species\"].values[0]\n",
    "    sample.save()    "
   ]
  },
  {
   "cell_type": "code",
   "execution_count": null,
   "metadata": {},
   "outputs": [],
   "source": [
    "df_train.to_csv('/home/ubuntu/FGVC11/data/PlantTrait/df_train_binned.csv', index=False)"
   ]
  },
  {
   "cell_type": "code",
   "execution_count": null,
   "metadata": {},
   "outputs": [],
   "source": []
  }
 ],
 "metadata": {
  "kernelspec": {
   "display_name": "transformers",
   "language": "python",
   "name": "python3"
  },
  "language_info": {
   "codemirror_mode": {
    "name": "ipython",
    "version": 3
   },
   "file_extension": ".py",
   "mimetype": "text/x-python",
   "name": "python",
   "nbconvert_exporter": "python",
   "pygments_lexer": "ipython3",
   "version": "3.10.12"
  }
 },
 "nbformat": 4,
 "nbformat_minor": 2
}
