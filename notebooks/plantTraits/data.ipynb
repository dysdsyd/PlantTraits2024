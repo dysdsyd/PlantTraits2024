{
 "cells": [
  {
   "cell_type": "code",
   "execution_count": 34,
   "metadata": {},
   "outputs": [],
   "source": [
    "%config Completer.use_jedi = False\n",
    "%load_ext autoreload\n",
    "%autoreload 2"
   ]
  },
  {
   "cell_type": "code",
   "execution_count": 35,
   "metadata": {},
   "outputs": [],
   "source": [
    "import pandas as pd\n",
    "import numpy as np\n",
    "import torch"
   ]
  },
  {
   "cell_type": "code",
   "execution_count": 36,
   "metadata": {},
   "outputs": [],
   "source": [
    "#all columns must be identical to be consider the same species\n",
    "trait_columns = ['X4_mean', 'X11_mean', 'X18_mean', 'X50_mean', 'X26_mean', 'X3112_mean']\n",
    "aux_columns = list(\n",
    "            map(lambda x: x.replace(\"mean\", \"sd\"), trait_columns)\n",
    "        )"
   ]
  },
  {
   "cell_type": "code",
   "execution_count": 37,
   "metadata": {},
   "outputs": [],
   "source": [
    "df = pd.read_csv('/home/ubuntu/FGVC11/data/PlantTrait/df_processed.csv')"
   ]
  },
  {
   "cell_type": "code",
   "execution_count": 39,
   "metadata": {},
   "outputs": [
    {
     "data": {
      "text/plain": [
       "train    43037\n",
       "test      6545\n",
       "val       5972\n",
       "Name: split, dtype: int64"
      ]
     },
     "execution_count": 39,
     "metadata": {},
     "output_type": "execute_result"
    }
   ],
   "source": [
    "df.split.value_counts()"
   ]
  },
  {
   "cell_type": "code",
   "execution_count": 32,
   "metadata": {},
   "outputs": [
    {
     "data": {
      "text/html": [
       "<div>\n",
       "<style scoped>\n",
       "    .dataframe tbody tr th:only-of-type {\n",
       "        vertical-align: middle;\n",
       "    }\n",
       "\n",
       "    .dataframe tbody tr th {\n",
       "        vertical-align: top;\n",
       "    }\n",
       "\n",
       "    .dataframe thead th {\n",
       "        text-align: right;\n",
       "    }\n",
       "</style>\n",
       "<table border=\"1\" class=\"dataframe\">\n",
       "  <thead>\n",
       "    <tr style=\"text-align: right;\">\n",
       "      <th></th>\n",
       "      <th>X4_sd</th>\n",
       "      <th>X11_sd</th>\n",
       "      <th>X18_sd</th>\n",
       "      <th>X50_sd</th>\n",
       "      <th>X26_sd</th>\n",
       "      <th>X3112_sd</th>\n",
       "    </tr>\n",
       "  </thead>\n",
       "  <tbody>\n",
       "    <tr>\n",
       "      <th>count</th>\n",
       "      <td>55554.000000</td>\n",
       "      <td>55554.000000</td>\n",
       "      <td>55554.000000</td>\n",
       "      <td>55554.000000</td>\n",
       "      <td>55554.000000</td>\n",
       "      <td>55554.000000</td>\n",
       "    </tr>\n",
       "    <tr>\n",
       "      <th>mean</th>\n",
       "      <td>0.004292</td>\n",
       "      <td>0.571541</td>\n",
       "      <td>0.199052</td>\n",
       "      <td>0.040491</td>\n",
       "      <td>1.622844</td>\n",
       "      <td>131.585161</td>\n",
       "    </tr>\n",
       "    <tr>\n",
       "      <th>std</th>\n",
       "      <td>0.008898</td>\n",
       "      <td>1.248253</td>\n",
       "      <td>0.584896</td>\n",
       "      <td>0.081083</td>\n",
       "      <td>9.140633</td>\n",
       "      <td>405.630517</td>\n",
       "    </tr>\n",
       "    <tr>\n",
       "      <th>min</th>\n",
       "      <td>0.000000</td>\n",
       "      <td>0.000000</td>\n",
       "      <td>0.000000</td>\n",
       "      <td>0.000000</td>\n",
       "      <td>0.000000</td>\n",
       "      <td>0.000000</td>\n",
       "    </tr>\n",
       "    <tr>\n",
       "      <th>25%</th>\n",
       "      <td>0.000000</td>\n",
       "      <td>0.000000</td>\n",
       "      <td>0.000000</td>\n",
       "      <td>0.000000</td>\n",
       "      <td>0.000000</td>\n",
       "      <td>0.000000</td>\n",
       "    </tr>\n",
       "    <tr>\n",
       "      <th>50%</th>\n",
       "      <td>0.002695</td>\n",
       "      <td>0.136090</td>\n",
       "      <td>0.018110</td>\n",
       "      <td>0.013534</td>\n",
       "      <td>0.021614</td>\n",
       "      <td>10.375660</td>\n",
       "    </tr>\n",
       "    <tr>\n",
       "      <th>75%</th>\n",
       "      <td>0.005529</td>\n",
       "      <td>0.461571</td>\n",
       "      <td>0.120252</td>\n",
       "      <td>0.040138</td>\n",
       "      <td>0.349162</td>\n",
       "      <td>84.365770</td>\n",
       "    </tr>\n",
       "    <tr>\n",
       "      <th>max</th>\n",
       "      <td>0.284052</td>\n",
       "      <td>20.578559</td>\n",
       "      <td>10.097846</td>\n",
       "      <td>1.721833</td>\n",
       "      <td>328.725942</td>\n",
       "      <td>14460.755789</td>\n",
       "    </tr>\n",
       "  </tbody>\n",
       "</table>\n",
       "</div>"
      ],
      "text/plain": [
       "              X4_sd        X11_sd        X18_sd        X50_sd        X26_sd  \\\n",
       "count  55554.000000  55554.000000  55554.000000  55554.000000  55554.000000   \n",
       "mean       0.004292      0.571541      0.199052      0.040491      1.622844   \n",
       "std        0.008898      1.248253      0.584896      0.081083      9.140633   \n",
       "min        0.000000      0.000000      0.000000      0.000000      0.000000   \n",
       "25%        0.000000      0.000000      0.000000      0.000000      0.000000   \n",
       "50%        0.002695      0.136090      0.018110      0.013534      0.021614   \n",
       "75%        0.005529      0.461571      0.120252      0.040138      0.349162   \n",
       "max        0.284052     20.578559     10.097846      1.721833    328.725942   \n",
       "\n",
       "           X3112_sd  \n",
       "count  55554.000000  \n",
       "mean     131.585161  \n",
       "std      405.630517  \n",
       "min        0.000000  \n",
       "25%        0.000000  \n",
       "50%       10.375660  \n",
       "75%       84.365770  \n",
       "max    14460.755789  "
      ]
     },
     "execution_count": 32,
     "metadata": {},
     "output_type": "execute_result"
    }
   ],
   "source": [
    "df[aux_columns].describe()\n"
   ]
  },
  {
   "cell_type": "code",
   "execution_count": 33,
   "metadata": {},
   "outputs": [
    {
     "data": {
      "text/html": [
       "<div>\n",
       "<style scoped>\n",
       "    .dataframe tbody tr th:only-of-type {\n",
       "        vertical-align: middle;\n",
       "    }\n",
       "\n",
       "    .dataframe tbody tr th {\n",
       "        vertical-align: top;\n",
       "    }\n",
       "\n",
       "    .dataframe thead th {\n",
       "        text-align: right;\n",
       "    }\n",
       "</style>\n",
       "<table border=\"1\" class=\"dataframe\">\n",
       "  <thead>\n",
       "    <tr style=\"text-align: right;\">\n",
       "      <th></th>\n",
       "      <th>X4_mean</th>\n",
       "      <th>X11_mean</th>\n",
       "      <th>X18_mean</th>\n",
       "      <th>X50_mean</th>\n",
       "      <th>X26_mean</th>\n",
       "      <th>X3112_mean</th>\n",
       "    </tr>\n",
       "  </thead>\n",
       "  <tbody>\n",
       "    <tr>\n",
       "      <th>count</th>\n",
       "      <td>55554.000000</td>\n",
       "      <td>55554.000000</td>\n",
       "      <td>55554.000000</td>\n",
       "      <td>55554.000000</td>\n",
       "      <td>55554.000000</td>\n",
       "      <td>55554.000000</td>\n",
       "    </tr>\n",
       "    <tr>\n",
       "      <th>mean</th>\n",
       "      <td>0.452789</td>\n",
       "      <td>13.907804</td>\n",
       "      <td>2.252462</td>\n",
       "      <td>1.393314</td>\n",
       "      <td>16.969752</td>\n",
       "      <td>1300.792687</td>\n",
       "    </tr>\n",
       "    <tr>\n",
       "      <th>std</th>\n",
       "      <td>0.209653</td>\n",
       "      <td>8.189753</td>\n",
       "      <td>4.049120</td>\n",
       "      <td>0.748973</td>\n",
       "      <td>49.908438</td>\n",
       "      <td>1951.040578</td>\n",
       "    </tr>\n",
       "    <tr>\n",
       "      <th>min</th>\n",
       "      <td>0.000000</td>\n",
       "      <td>0.000000</td>\n",
       "      <td>0.000000</td>\n",
       "      <td>0.000000</td>\n",
       "      <td>0.000000</td>\n",
       "      <td>0.000000</td>\n",
       "    </tr>\n",
       "    <tr>\n",
       "      <th>25%</th>\n",
       "      <td>0.368824</td>\n",
       "      <td>8.590398</td>\n",
       "      <td>0.201960</td>\n",
       "      <td>1.022802</td>\n",
       "      <td>0.202938</td>\n",
       "      <td>143.250464</td>\n",
       "    </tr>\n",
       "    <tr>\n",
       "      <th>50%</th>\n",
       "      <td>0.473778</td>\n",
       "      <td>14.343725</td>\n",
       "      <td>0.510616</td>\n",
       "      <td>1.393763</td>\n",
       "      <td>1.456990</td>\n",
       "      <td>519.442038</td>\n",
       "    </tr>\n",
       "    <tr>\n",
       "      <th>75%</th>\n",
       "      <td>0.598398</td>\n",
       "      <td>18.934532</td>\n",
       "      <td>2.013909</td>\n",
       "      <td>1.806646</td>\n",
       "      <td>8.489919</td>\n",
       "      <td>1605.332660</td>\n",
       "    </tr>\n",
       "    <tr>\n",
       "      <th>max</th>\n",
       "      <td>0.856600</td>\n",
       "      <td>40.478892</td>\n",
       "      <td>23.294858</td>\n",
       "      <td>3.584879</td>\n",
       "      <td>492.559161</td>\n",
       "      <td>12978.600313</td>\n",
       "    </tr>\n",
       "  </tbody>\n",
       "</table>\n",
       "</div>"
      ],
      "text/plain": [
       "            X4_mean      X11_mean      X18_mean      X50_mean      X26_mean  \\\n",
       "count  55554.000000  55554.000000  55554.000000  55554.000000  55554.000000   \n",
       "mean       0.452789     13.907804      2.252462      1.393314     16.969752   \n",
       "std        0.209653      8.189753      4.049120      0.748973     49.908438   \n",
       "min        0.000000      0.000000      0.000000      0.000000      0.000000   \n",
       "25%        0.368824      8.590398      0.201960      1.022802      0.202938   \n",
       "50%        0.473778     14.343725      0.510616      1.393763      1.456990   \n",
       "75%        0.598398     18.934532      2.013909      1.806646      8.489919   \n",
       "max        0.856600     40.478892     23.294858      3.584879    492.559161   \n",
       "\n",
       "         X3112_mean  \n",
       "count  55554.000000  \n",
       "mean    1300.792687  \n",
       "std     1951.040578  \n",
       "min        0.000000  \n",
       "25%      143.250464  \n",
       "50%      519.442038  \n",
       "75%     1605.332660  \n",
       "max    12978.600313  "
      ]
     },
     "execution_count": 33,
     "metadata": {},
     "output_type": "execute_result"
    }
   ],
   "source": [
    "df[trait_columns].describe()\n"
   ]
  },
  {
   "cell_type": "code",
   "execution_count": 29,
   "metadata": {},
   "outputs": [
    {
     "data": {
      "text/plain": [
       "tensor(0.1000)"
      ]
     },
     "execution_count": 29,
     "metadata": {},
     "output_type": "execute_result"
    }
   ],
   "source": [
    "torch.normal(mean=torch.tensor(0.1), std=torch.tensor(0))"
   ]
  },
  {
   "cell_type": "code",
   "execution_count": 5,
   "metadata": {},
   "outputs": [
    {
     "data": {
      "text/plain": [
       "train    43037\n",
       "test      6545\n",
       "val       5972\n",
       "Name: split, dtype: int64"
      ]
     },
     "execution_count": 5,
     "metadata": {},
     "output_type": "execute_result"
    }
   ],
   "source": [
    "df.split.value_counts()"
   ]
  },
  {
   "cell_type": "code",
   "execution_count": 40,
   "metadata": {},
   "outputs": [
    {
     "name": "stderr",
     "output_type": "stream",
     "text": [
      "/tmp/ipykernel_2909/2743509207.py:1: SettingWithCopyWarning: \n",
      "A value is trying to be set on a copy of a slice from a DataFrame.\n",
      "Try using .loc[row_indexer,col_indexer] = value instead\n",
      "\n",
      "See the caveats in the documentation: https://pandas.pydata.org/pandas-docs/stable/user_guide/indexing.html#returning-a-view-versus-a-copy\n",
      "  df_train[aux_columns][df_train[aux_columns] == 0] = 0.0001\n",
      "/tmp/ipykernel_2909/2743509207.py:1: SettingWithCopyWarning: \n",
      "A value is trying to be set on a copy of a slice from a DataFrame\n",
      "\n",
      "See the caveats in the documentation: https://pandas.pydata.org/pandas-docs/stable/user_guide/indexing.html#returning-a-view-versus-a-copy\n",
      "  df_train[aux_columns][df_train[aux_columns] == 0] = 0.0001\n"
     ]
    }
   ],
   "source": [
    "df_train[aux_columns][df_train[aux_columns] == 0] = 0.0001"
   ]
  },
  {
   "cell_type": "code",
   "execution_count": 41,
   "metadata": {},
   "outputs": [
    {
     "data": {
      "text/html": [
       "<div>\n",
       "<style scoped>\n",
       "    .dataframe tbody tr th:only-of-type {\n",
       "        vertical-align: middle;\n",
       "    }\n",
       "\n",
       "    .dataframe tbody tr th {\n",
       "        vertical-align: top;\n",
       "    }\n",
       "\n",
       "    .dataframe thead th {\n",
       "        text-align: right;\n",
       "    }\n",
       "</style>\n",
       "<table border=\"1\" class=\"dataframe\">\n",
       "  <thead>\n",
       "    <tr style=\"text-align: right;\">\n",
       "      <th></th>\n",
       "      <th>X4_sd</th>\n",
       "      <th>X11_sd</th>\n",
       "      <th>X18_sd</th>\n",
       "      <th>X50_sd</th>\n",
       "      <th>X26_sd</th>\n",
       "      <th>X3112_sd</th>\n",
       "    </tr>\n",
       "  </thead>\n",
       "  <tbody>\n",
       "    <tr>\n",
       "      <th>count</th>\n",
       "      <td>49009.000000</td>\n",
       "      <td>49009.000000</td>\n",
       "      <td>49009.000000</td>\n",
       "      <td>49009.000000</td>\n",
       "      <td>49009.000000</td>\n",
       "      <td>49009.000000</td>\n",
       "    </tr>\n",
       "    <tr>\n",
       "      <th>mean</th>\n",
       "      <td>0.004866</td>\n",
       "      <td>0.647868</td>\n",
       "      <td>0.225634</td>\n",
       "      <td>0.045898</td>\n",
       "      <td>1.839570</td>\n",
       "      <td>149.157951</td>\n",
       "    </tr>\n",
       "    <tr>\n",
       "      <th>std</th>\n",
       "      <td>0.009325</td>\n",
       "      <td>1.310257</td>\n",
       "      <td>0.617894</td>\n",
       "      <td>0.084878</td>\n",
       "      <td>9.711370</td>\n",
       "      <td>428.822432</td>\n",
       "    </tr>\n",
       "    <tr>\n",
       "      <th>min</th>\n",
       "      <td>0.000000</td>\n",
       "      <td>0.000000</td>\n",
       "      <td>0.000000</td>\n",
       "      <td>0.000000</td>\n",
       "      <td>0.000000</td>\n",
       "      <td>0.000000</td>\n",
       "    </tr>\n",
       "    <tr>\n",
       "      <th>25%</th>\n",
       "      <td>0.000000</td>\n",
       "      <td>0.000000</td>\n",
       "      <td>0.000000</td>\n",
       "      <td>0.000000</td>\n",
       "      <td>0.000000</td>\n",
       "      <td>0.000000</td>\n",
       "    </tr>\n",
       "    <tr>\n",
       "      <th>50%</th>\n",
       "      <td>0.003395</td>\n",
       "      <td>0.193336</td>\n",
       "      <td>0.031728</td>\n",
       "      <td>0.017916</td>\n",
       "      <td>0.046384</td>\n",
       "      <td>19.259531</td>\n",
       "    </tr>\n",
       "    <tr>\n",
       "      <th>75%</th>\n",
       "      <td>0.005986</td>\n",
       "      <td>0.548530</td>\n",
       "      <td>0.143905</td>\n",
       "      <td>0.046822</td>\n",
       "      <td>0.475021</td>\n",
       "      <td>106.283475</td>\n",
       "    </tr>\n",
       "    <tr>\n",
       "      <th>max</th>\n",
       "      <td>0.284052</td>\n",
       "      <td>20.578559</td>\n",
       "      <td>10.097846</td>\n",
       "      <td>1.721833</td>\n",
       "      <td>328.725942</td>\n",
       "      <td>14460.755789</td>\n",
       "    </tr>\n",
       "  </tbody>\n",
       "</table>\n",
       "</div>"
      ],
      "text/plain": [
       "              X4_sd        X11_sd        X18_sd        X50_sd        X26_sd  \\\n",
       "count  49009.000000  49009.000000  49009.000000  49009.000000  49009.000000   \n",
       "mean       0.004866      0.647868      0.225634      0.045898      1.839570   \n",
       "std        0.009325      1.310257      0.617894      0.084878      9.711370   \n",
       "min        0.000000      0.000000      0.000000      0.000000      0.000000   \n",
       "25%        0.000000      0.000000      0.000000      0.000000      0.000000   \n",
       "50%        0.003395      0.193336      0.031728      0.017916      0.046384   \n",
       "75%        0.005986      0.548530      0.143905      0.046822      0.475021   \n",
       "max        0.284052     20.578559     10.097846      1.721833    328.725942   \n",
       "\n",
       "           X3112_sd  \n",
       "count  49009.000000  \n",
       "mean     149.157951  \n",
       "std      428.822432  \n",
       "min        0.000000  \n",
       "25%        0.000000  \n",
       "50%       19.259531  \n",
       "75%      106.283475  \n",
       "max    14460.755789  "
      ]
     },
     "execution_count": 41,
     "metadata": {},
     "output_type": "execute_result"
    }
   ],
   "source": [
    "df_train[aux_columns].describe()"
   ]
  },
  {
   "cell_type": "code",
   "execution_count": 39,
   "metadata": {},
   "outputs": [
    {
     "data": {
      "text/html": [
       "<div>\n",
       "<style scoped>\n",
       "    .dataframe tbody tr th:only-of-type {\n",
       "        vertical-align: middle;\n",
       "    }\n",
       "\n",
       "    .dataframe tbody tr th {\n",
       "        vertical-align: top;\n",
       "    }\n",
       "\n",
       "    .dataframe thead th {\n",
       "        text-align: right;\n",
       "    }\n",
       "</style>\n",
       "<table border=\"1\" class=\"dataframe\">\n",
       "  <thead>\n",
       "    <tr style=\"text-align: right;\">\n",
       "      <th></th>\n",
       "      <th>X4_mean</th>\n",
       "      <th>X11_mean</th>\n",
       "      <th>X18_mean</th>\n",
       "      <th>X50_mean</th>\n",
       "      <th>X26_mean</th>\n",
       "      <th>X3112_mean</th>\n",
       "    </tr>\n",
       "  </thead>\n",
       "  <tbody>\n",
       "    <tr>\n",
       "      <th>count</th>\n",
       "      <td>49009.000000</td>\n",
       "      <td>49009.000000</td>\n",
       "      <td>49009.000000</td>\n",
       "      <td>49009.000000</td>\n",
       "      <td>49009.000000</td>\n",
       "      <td>49009.000000</td>\n",
       "    </tr>\n",
       "    <tr>\n",
       "      <th>mean</th>\n",
       "      <td>0.513258</td>\n",
       "      <td>15.765148</td>\n",
       "      <td>2.553271</td>\n",
       "      <td>1.579387</td>\n",
       "      <td>19.236010</td>\n",
       "      <td>1474.509518</td>\n",
       "    </tr>\n",
       "    <tr>\n",
       "      <th>std</th>\n",
       "      <td>0.137069</td>\n",
       "      <td>6.837221</td>\n",
       "      <td>4.221007</td>\n",
       "      <td>0.584798</td>\n",
       "      <td>52.724851</td>\n",
       "      <td>2014.639313</td>\n",
       "    </tr>\n",
       "    <tr>\n",
       "      <th>min</th>\n",
       "      <td>0.006996</td>\n",
       "      <td>1.347339</td>\n",
       "      <td>0.004113</td>\n",
       "      <td>0.076517</td>\n",
       "      <td>0.000179</td>\n",
       "      <td>1.108830</td>\n",
       "    </tr>\n",
       "    <tr>\n",
       "      <th>25%</th>\n",
       "      <td>0.408186</td>\n",
       "      <td>11.137467</td>\n",
       "      <td>0.292925</td>\n",
       "      <td>1.176888</td>\n",
       "      <td>0.484909</td>\n",
       "      <td>249.790400</td>\n",
       "    </tr>\n",
       "    <tr>\n",
       "      <th>50%</th>\n",
       "      <td>0.499013</td>\n",
       "      <td>15.384302</td>\n",
       "      <td>0.637308</td>\n",
       "      <td>1.463930</td>\n",
       "      <td>2.104612</td>\n",
       "      <td>658.022926</td>\n",
       "    </tr>\n",
       "    <tr>\n",
       "      <th>75%</th>\n",
       "      <td>0.613369</td>\n",
       "      <td>19.599075</td>\n",
       "      <td>2.656578</td>\n",
       "      <td>1.877676</td>\n",
       "      <td>11.127102</td>\n",
       "      <td>1859.130555</td>\n",
       "    </tr>\n",
       "    <tr>\n",
       "      <th>max</th>\n",
       "      <td>0.856600</td>\n",
       "      <td>40.478892</td>\n",
       "      <td>23.294858</td>\n",
       "      <td>3.584879</td>\n",
       "      <td>492.559161</td>\n",
       "      <td>12978.600313</td>\n",
       "    </tr>\n",
       "  </tbody>\n",
       "</table>\n",
       "</div>"
      ],
      "text/plain": [
       "            X4_mean      X11_mean      X18_mean      X50_mean      X26_mean  \\\n",
       "count  49009.000000  49009.000000  49009.000000  49009.000000  49009.000000   \n",
       "mean       0.513258     15.765148      2.553271      1.579387     19.236010   \n",
       "std        0.137069      6.837221      4.221007      0.584798     52.724851   \n",
       "min        0.006996      1.347339      0.004113      0.076517      0.000179   \n",
       "25%        0.408186     11.137467      0.292925      1.176888      0.484909   \n",
       "50%        0.499013     15.384302      0.637308      1.463930      2.104612   \n",
       "75%        0.613369     19.599075      2.656578      1.877676     11.127102   \n",
       "max        0.856600     40.478892     23.294858      3.584879    492.559161   \n",
       "\n",
       "         X3112_mean  \n",
       "count  49009.000000  \n",
       "mean    1474.509518  \n",
       "std     2014.639313  \n",
       "min        1.108830  \n",
       "25%      249.790400  \n",
       "50%      658.022926  \n",
       "75%     1859.130555  \n",
       "max    12978.600313  "
      ]
     },
     "execution_count": 39,
     "metadata": {},
     "output_type": "execute_result"
    }
   ],
   "source": [
    "df_train[trait_columns].describe()"
   ]
  },
  {
   "cell_type": "code",
   "execution_count": 42,
   "metadata": {},
   "outputs": [],
   "source": [
    "df_train = df[df.split != 'test'].reset_index(drop=True)"
   ]
  },
  {
   "cell_type": "code",
   "execution_count": 22,
   "metadata": {},
   "outputs": [],
   "source": [
    "# add species column\n",
    "df_train['species'] = df_train.groupby(trait_columns).ngroup()\n",
    "# df['species'] = df['species'].astype(str)"
   ]
  },
  {
   "cell_type": "code",
   "execution_count": 24,
   "metadata": {},
   "outputs": [
    {
     "data": {
      "text/plain": [
       "17396"
      ]
     },
     "execution_count": 24,
     "metadata": {},
     "output_type": "execute_result"
    }
   ],
   "source": [
    "len(sorted(df_train['species'].unique()))"
   ]
  },
  {
   "cell_type": "code",
   "execution_count": 27,
   "metadata": {},
   "outputs": [
    {
     "data": {
      "text/plain": [
       "14524    12\n",
       "595      11\n",
       "4818     11\n",
       "105      10\n",
       "13108     9\n",
       "         ..\n",
       "16209     1\n",
       "3893      1\n",
       "11637     1\n",
       "15379     1\n",
       "11765     1\n",
       "Name: species, Length: 17396, dtype: int64"
      ]
     },
     "execution_count": 27,
     "metadata": {},
     "output_type": "execute_result"
    }
   ],
   "source": [
    "df_train.species.value_counts()"
   ]
  },
  {
   "cell_type": "code",
   "execution_count": 31,
   "metadata": {},
   "outputs": [
    {
     "data": {
      "text/plain": [
       "count    49009.000000\n",
       "mean         0.004866\n",
       "std          0.009325\n",
       "min          0.000000\n",
       "25%          0.000000\n",
       "50%          0.003395\n",
       "75%          0.005986\n",
       "max          0.284052\n",
       "Name: X4_sd, dtype: float64"
      ]
     },
     "execution_count": 31,
     "metadata": {},
     "output_type": "execute_result"
    }
   ],
   "source": [
    "df_train[\"X4_sd\"].describe()"
   ]
  },
  {
   "cell_type": "code",
   "execution_count": 33,
   "metadata": {},
   "outputs": [
    {
     "name": "stdout",
     "output_type": "stream",
     "text": [
      "Original Means: tensor([0.5000, 0.3000, 0.7000, 0.2000, 0.8000, 0.6000])\n",
      "Augmented Values: tensor([ 0.5000, -0.2671,  0.7030,  0.0889,  0.8417,  0.5085])\n"
     ]
    }
   ],
   "source": [
    "import torch\n",
    "\n",
    "# Example data\n",
    "data = {\n",
    "    \"label\": torch.tensor([0.5, 0.3, 0.7, 0.2, 0.8, 0.6]),  # Mean values\n",
    "    \"aux_label\": torch.tensor([0, 1, 0.15, 0.1, 0.05, 0.08])  # Standard deviations\n",
    "}\n",
    "\n",
    "# Means and standard deviations\n",
    "means = data[\"label\"]\n",
    "stds = data[\"aux_label\"]\n",
    "\n",
    "\n"
   ]
  },
  {
   "cell_type": "code",
   "execution_count": 36,
   "metadata": {},
   "outputs": [
    {
     "name": "stdout",
     "output_type": "stream",
     "text": [
      "Original Means: tensor([0.5000, 0.3000, 0.7000, 0.2000, 0.8000, 0.6000])\n",
      "Augmented Values: tensor([0.5000, 2.4744, 0.8196, 0.0747, 0.7607, 0.5568])\n"
     ]
    }
   ],
   "source": [
    "# Sampling from a normal distribution using the means and stds\n",
    "random_samples = torch.normal(means, stds)\n",
    "\n",
    "# Print the original and the augmented tensors\n",
    "print(\"Original Means:\", means)\n",
    "print(\"Augmented Values:\", random_samples)"
   ]
  },
  {
   "cell_type": "code",
   "execution_count": null,
   "metadata": {},
   "outputs": [],
   "source": []
  }
 ],
 "metadata": {
  "kernelspec": {
   "display_name": "transformers",
   "language": "python",
   "name": "python3"
  },
  "language_info": {
   "codemirror_mode": {
    "name": "ipython",
    "version": 3
   },
   "file_extension": ".py",
   "mimetype": "text/x-python",
   "name": "python",
   "nbconvert_exporter": "python",
   "pygments_lexer": "ipython3",
   "version": "3.10.12"
  }
 },
 "nbformat": 4,
 "nbformat_minor": 2
}
